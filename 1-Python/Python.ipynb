{
 "cells": [
  {
   "cell_type": "markdown",
   "id": "8be53211",
   "metadata": {},
   "source": [
    "#### Loop"
   ]
  },
  {
   "cell_type": "code",
   "execution_count": 1,
   "id": "bb042311",
   "metadata": {},
   "outputs": [
    {
     "data": {
      "text/plain": [
       "[0, 1, 2, 3, 4, 5, 6, 7, 8, 9]"
      ]
     },
     "execution_count": 1,
     "metadata": {},
     "output_type": "execute_result"
    }
   ],
   "source": [
    "helper=[]\n",
    "for i in range(10):\n",
    "    helper.append(i)\n",
    "\n",
    "helper"
   ]
  },
  {
   "cell_type": "code",
   "execution_count": 2,
   "id": "55ed300e",
   "metadata": {},
   "outputs": [
    {
     "data": {
      "text/plain": [
       "[0, 1, 2, 3, 4, 5, 6, 7, 8, 9]"
      ]
     },
     "execution_count": 2,
     "metadata": {},
     "output_type": "execute_result"
    }
   ],
   "source": [
    "helper= [i for i in range(10)]\n",
    "helper"
   ]
  },
  {
   "cell_type": "markdown",
   "id": "7f4dc841",
   "metadata": {},
   "source": [
    "#### Map function\n",
    "\n",
    "The map function will apply this function to each element of the list"
   ]
  },
  {
   "cell_type": "code",
   "execution_count": 3,
   "id": "5453c309",
   "metadata": {},
   "outputs": [],
   "source": [
    "def newfuc(a):\n",
    "    return a**2"
   ]
  },
  {
   "cell_type": "code",
   "execution_count": 4,
   "id": "8d26004c",
   "metadata": {},
   "outputs": [
    {
     "data": {
      "text/plain": [
       "[1, 4, 9, 25, 36]"
      ]
     },
     "execution_count": 4,
     "metadata": {},
     "output_type": "execute_result"
    }
   ],
   "source": [
    "seq=[1,2,3,5,6]\n",
    "list(map(newfuc, seq))"
   ]
  },
  {
   "cell_type": "markdown",
   "id": "8b78d996",
   "metadata": {},
   "source": [
    "#### Lambda\n",
    "\n",
    "We remove unnessesary terms like def func, return "
   ]
  },
  {
   "cell_type": "code",
   "execution_count": 5,
   "id": "3dddc15d",
   "metadata": {},
   "outputs": [
    {
     "data": {
      "text/plain": [
       "[1, 4, 9, 25, 36]"
      ]
     },
     "execution_count": 5,
     "metadata": {},
     "output_type": "execute_result"
    }
   ],
   "source": [
    "list(map(lambda a:a**2, seq))"
   ]
  },
  {
   "cell_type": "markdown",
   "id": "266bdcb7",
   "metadata": {},
   "source": [
    "#### Filter function\n",
    "\n",
    "Instead of mapping a function to each element in list we filter out elements"
   ]
  },
  {
   "cell_type": "code",
   "execution_count": 8,
   "id": "9217420a",
   "metadata": {},
   "outputs": [
    {
     "data": {
      "text/plain": [
       "[5, 6]"
      ]
     },
     "execution_count": 8,
     "metadata": {},
     "output_type": "execute_result"
    }
   ],
   "source": [
    "list(filter(lambda a:a>3, seq))"
   ]
  },
  {
   "cell_type": "code",
   "execution_count": 22,
   "id": "e4f38315",
   "metadata": {},
   "outputs": [
    {
     "data": {
      "text/plain": [
       "['soap', 'dog', 'salad']"
      ]
     },
     "execution_count": 22,
     "metadata": {},
     "output_type": "execute_result"
    }
   ],
   "source": [
    "seq= ['soap','dog','salad','cat','greet']\n",
    "\n",
    "list(filter(lambda a:a.startswith('s') | a.startswith('d'), seq))"
   ]
  },
  {
   "cell_type": "code",
   "execution_count": null,
   "id": "97487741",
   "metadata": {},
   "outputs": [],
   "source": [
    "string=\"shle\"\n",
    "string.s"
   ]
  },
  {
   "cell_type": "markdown",
   "id": "9504667f",
   "metadata": {},
   "source": [
    "#### String functions"
   ]
  },
  {
   "cell_type": "code",
   "execution_count": 10,
   "id": "3a929db0",
   "metadata": {},
   "outputs": [
    {
     "data": {
      "text/plain": [
       "['Hello', 'my', 'name', '#', 'is', 'amin$fa', 'him..,,']"
      ]
     },
     "execution_count": 10,
     "metadata": {},
     "output_type": "execute_result"
    }
   ],
   "source": [
    "string= \"Hello my name # is amin$fa him..,,\"\n",
    "string.split() # on basis of space"
   ]
  },
  {
   "cell_type": "code",
   "execution_count": 12,
   "id": "b80c487b",
   "metadata": {},
   "outputs": [
    {
     "data": {
      "text/plain": [
       "['Hello my name ', ' is amin$fa him..,,']"
      ]
     },
     "execution_count": 12,
     "metadata": {},
     "output_type": "execute_result"
    }
   ],
   "source": [
    "string.split('#') # on basis of space"
   ]
  },
  {
   "cell_type": "markdown",
   "id": "5fd75ce5",
   "metadata": {},
   "source": [
    "### List"
   ]
  },
  {
   "cell_type": "code",
   "execution_count": 13,
   "id": "995add29",
   "metadata": {},
   "outputs": [
    {
     "data": {
      "text/plain": [
       "6"
      ]
     },
     "execution_count": 13,
     "metadata": {},
     "output_type": "execute_result"
    }
   ],
   "source": [
    "seq.pop()"
   ]
  },
  {
   "cell_type": "code",
   "execution_count": 14,
   "id": "310851af",
   "metadata": {},
   "outputs": [
    {
     "data": {
      "text/plain": [
       "[1, 2, 3, 5]"
      ]
     },
     "execution_count": 14,
     "metadata": {},
     "output_type": "execute_result"
    }
   ],
   "source": [
    "seq"
   ]
  },
  {
   "cell_type": "code",
   "execution_count": 15,
   "id": "407c9872",
   "metadata": {},
   "outputs": [
    {
     "data": {
      "text/plain": [
       "1"
      ]
     },
     "execution_count": 15,
     "metadata": {},
     "output_type": "execute_result"
    }
   ],
   "source": [
    "seq.pop(0)"
   ]
  },
  {
   "cell_type": "markdown",
   "id": "7dc16fc8",
   "metadata": {},
   "source": [
    "#### Tuple"
   ]
  },
  {
   "cell_type": "code",
   "execution_count": 16,
   "id": "d40901f0",
   "metadata": {},
   "outputs": [
    {
     "data": {
      "text/plain": [
       "[(1, 2), (3, 4), (5, 6)]"
      ]
     },
     "execution_count": 16,
     "metadata": {},
     "output_type": "execute_result"
    }
   ],
   "source": [
    "x=[(1,2),(3,4),(5,6)]\n",
    "x"
   ]
  },
  {
   "cell_type": "code",
   "execution_count": 17,
   "id": "580468eb",
   "metadata": {},
   "outputs": [
    {
     "name": "stdout",
     "output_type": "stream",
     "text": [
      "1\n",
      "3\n",
      "5\n"
     ]
    }
   ],
   "source": [
    "for a, b in x:\n",
    "    print(a)"
   ]
  }
 ],
 "metadata": {
  "kernelspec": {
   "display_name": "Python 3 (ipykernel)",
   "language": "python",
   "name": "python3"
  },
  "language_info": {
   "codemirror_mode": {
    "name": "ipython",
    "version": 3
   },
   "file_extension": ".py",
   "mimetype": "text/x-python",
   "name": "python",
   "nbconvert_exporter": "python",
   "pygments_lexer": "ipython3",
   "version": "3.11.4"
  }
 },
 "nbformat": 4,
 "nbformat_minor": 5
}
